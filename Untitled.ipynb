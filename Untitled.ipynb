{
 "cells": [
  {
   "cell_type": "code",
   "execution_count": 9,
   "metadata": {},
   "outputs": [],
   "source": [
    "import math\n",
    "import json\n",
    "import matplotlib as plt\n",
    "import numpy as np\n",
    "\n",
    "\n",
    "def distance(x1, x2, y1, y2, z1, z2, w1, w2):\n",
    "    return math.sqrt(math.pow((x2-x1), 2)+math.pow((y2-y1), 2)+math.pow((z2-z1), 2)+math.pow((w2-w1), 2))\n",
    "\n",
    "\n",
    "def jsontopython():\n",
    "    reading = open(\"data.json\", \"r\")\n",
    "    jsonstring = reading.read()\n",
    "    reading.close()\n",
    "    data = json.loads(jsonstring)\n",
    "    return data\n",
    "\n"
   ]
  },
  {
   "cell_type": "code",
   "execution_count": 7,
   "metadata": {},
   "outputs": [],
   "source": [
    "data = jsontopython()\n",
    "keys = data.keys()\n",
    "dictmain = {}\n",
    "dictmap = {}\n",
    "for i in keys:\n",
    "    keya = str(i)\n",
    "    stringa = data[keya]\n",
    "    dictab = {}\n",
    "    listab = []\n",
    "    for key in keys:\n",
    "        if key != i:\n",
    "            keyb = str(key)\n",
    "            stringb = data[keyb]\n",
    "            classb = stringb[\"class\"]\n",
    "            f1a = float(stringa[\"f1\"].replace(',', '.'))\n",
    "            f1b = float(stringb[\"f1\"].replace(',', '.'))\n",
    "            f2a = float(stringa[\"f2\"].replace(',', '.'))\n",
    "            f2b = float(stringb[\"f2\"].replace(',', '.'))\n",
    "            f3a = float(stringa[\"f3\"].replace(',', '.'))\n",
    "            f3b = float(stringb[\"f3\"].replace(',', '.'))\n",
    "            f4a = float(stringa[\"f4\"].replace(',', '.'))\n",
    "            f4b = float(stringb[\"f4\"].replace(',', '.'))\n",
    "            distanceab = distance(f1a, f1b, f2a, f2b, f3a, f3b, f4a, f4b)\n",
    "            listab.append(distanceab)\n",
    "            dictab[distanceab] = classb\n",
    "    listab = sorted(listab)\n",
    "    dictmap[i] = listab\n",
    "    dictmain[i] = dictab"
   ]
  },
  {
   "cell_type": "code",
   "execution_count": 5,
   "metadata": {},
   "outputs": [],
   "source": [
    "def errorfunction(k): \n",
    "    aclass = \"iris-setosa\"\n",
    "    aobject = \"1\"\n",
    "    listmap = dictmap[aobject]\n",
    "    objectdistances = dictmain[aobject]\n",
    "    p = 0\n",
    "    n = 0\n",
    "    errk = 0\n",
    "    i = 1\n",
    "    for i in enumerate(listmap) == k:\n",
    "        bclass = objectdistances[listmap(i)]\n",
    "        if bclass == aclass:\n",
    "            p+=1\n",
    "        else:\n",
    "            n+=1\n",
    "        i+=1\n",
    "    errk = p/n\n",
    "    c+=1\n",
    "    return errk"
   ]
  },
  {
   "cell_type": "code",
   "execution_count": 8,
   "metadata": {},
   "outputs": [
    {
     "ename": "NameError",
     "evalue": "name 'k' is not defined",
     "output_type": "error",
     "traceback": [
      "\u001b[1;31m---------------------------------------------------------------------------\u001b[0m",
      "\u001b[1;31mNameError\u001b[0m                                 Traceback (most recent call last)",
      "\u001b[1;32m<ipython-input-8-ec211cc5fed0>\u001b[0m in \u001b[0;36m<module>\u001b[1;34m\u001b[0m\n\u001b[1;32m----> 1\u001b[1;33m \u001b[0my1\u001b[0m \u001b[1;33m=\u001b[0m \u001b[0merrorfunction\u001b[0m\u001b[1;33m(\u001b[0m\u001b[0mk\u001b[0m\u001b[1;33m)\u001b[0m\u001b[1;33m\u001b[0m\u001b[1;33m\u001b[0m\u001b[0m\n\u001b[0m\u001b[0;32m      2\u001b[0m \u001b[0mfig\u001b[0m \u001b[1;33m=\u001b[0m \u001b[0mplt\u001b[0m\u001b[1;33m.\u001b[0m\u001b[0mfigure\u001b[0m\u001b[1;33m(\u001b[0m\u001b[0mfigsize\u001b[0m\u001b[1;33m=\u001b[0m\u001b[1;33m(\u001b[0m\u001b[1;36m8\u001b[0m\u001b[1;33m,\u001b[0m \u001b[1;36m8\u001b[0m\u001b[1;33m)\u001b[0m\u001b[1;33m)\u001b[0m\u001b[1;33m\u001b[0m\u001b[1;33m\u001b[0m\u001b[0m\n\u001b[0;32m      3\u001b[0m \u001b[0max\u001b[0m \u001b[1;33m=\u001b[0m \u001b[0mfig\u001b[0m\u001b[1;33m.\u001b[0m\u001b[0madd_subplot\u001b[0m\u001b[1;33m(\u001b[0m\u001b[1;36m1\u001b[0m\u001b[1;33m,\u001b[0m \u001b[1;36m1\u001b[0m\u001b[1;33m,\u001b[0m \u001b[1;36m1\u001b[0m\u001b[1;33m,\u001b[0m \u001b[0maspect\u001b[0m\u001b[1;33m=\u001b[0m\u001b[1;36m1\u001b[0m\u001b[1;33m)\u001b[0m\u001b[1;33m\u001b[0m\u001b[1;33m\u001b[0m\u001b[0m\n\u001b[0;32m      4\u001b[0m \u001b[0max\u001b[0m\u001b[1;33m.\u001b[0m\u001b[0mset_xlim\u001b[0m\u001b[1;33m(\u001b[0m\u001b[1;36m0\u001b[0m\u001b[1;33m,\u001b[0m \u001b[1;36m4\u001b[0m\u001b[1;33m)\u001b[0m\u001b[1;33m\u001b[0m\u001b[1;33m\u001b[0m\u001b[0m\n\u001b[0;32m      5\u001b[0m \u001b[0max\u001b[0m\u001b[1;33m.\u001b[0m\u001b[0mset_ylim\u001b[0m\u001b[1;33m(\u001b[0m\u001b[1;36m0\u001b[0m\u001b[1;33m,\u001b[0m \u001b[1;36m4\u001b[0m\u001b[1;33m)\u001b[0m\u001b[1;33m\u001b[0m\u001b[1;33m\u001b[0m\u001b[0m\n",
      "\u001b[1;31mNameError\u001b[0m: name 'k' is not defined"
     ]
    }
   ],
   "source": [
    "y1 = errorfunction(k)\n",
    "fig = plt.figure(figsize=(8, 8))\n",
    "ax = fig.add_subplot(1, 1, 1, aspect=1)\n",
    "ax.set_xlim(0, 4)\n",
    "ax.set_ylim(0, 4)\n",
    "ax.plot(k, y1, c=(0.25, 0.25, 1.00), lw=2, label=\"Blue signal\", zorder=10)\n",
    "ax.set_xlabel(\"K axis\")\n",
    "ax.set_ylabel(\"error axis\")\n",
    "plt.show()"
   ]
  },
  {
   "cell_type": "code",
   "execution_count": null,
   "metadata": {},
   "outputs": [],
   "source": []
  }
 ],
 "metadata": {
  "kernelspec": {
   "display_name": "Python 3",
   "language": "python",
   "name": "python3"
  },
  "language_info": {
   "codemirror_mode": {
    "name": "ipython",
    "version": 3
   },
   "file_extension": ".py",
   "mimetype": "text/x-python",
   "name": "python",
   "nbconvert_exporter": "python",
   "pygments_lexer": "ipython3",
   "version": "3.6.8"
  }
 },
 "nbformat": 4,
 "nbformat_minor": 2
}
