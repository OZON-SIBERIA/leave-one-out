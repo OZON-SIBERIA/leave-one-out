{
 "cells": [
  {
   "cell_type": "code",
   "execution_count": 1,
   "metadata": {},
   "outputs": [],
   "source": [
    "import math\n",
    "import json\n",
    "import matplotlib\n",
    "from matplotlib import rcParams\n",
    "import matplotlib.pyplot as plt\n",
    "import numpy as np\n",
    "import numpy as np\n",
    "\n",
    "\n",
    "def distance(x1, x2, y1, y2, z1, z2, w1, w2):\n",
    "    return math.sqrt(math.pow((x2-x1), 2)+math.pow((y2-y1), 2)+math.pow((z2-z1), 2)+math.pow((w2-w1), 2))\n",
    "\n",
    "\n",
    "def jsontopython():\n",
    "    reading = open(\"data.json\", \"r\")\n",
    "    jsonstring = reading.read()\n",
    "    reading.close()\n",
    "    data = json.loads(jsonstring)\n",
    "    return data\n",
    "\n"
   ]
  },
  {
   "cell_type": "code",
   "execution_count": 2,
   "metadata": {},
   "outputs": [],
   "source": [
    "data = jsontopython()\n",
    "keys = data.keys()\n",
    "dictmain = {}\n",
    "dictmap = {}\n",
    "for i in keys:\n",
    "    keya = str(i)\n",
    "    stringa = data[keya]\n",
    "    dictab = {}\n",
    "    listab = []\n",
    "    for key in keys:\n",
    "        if key != i:\n",
    "            keyb = str(key)\n",
    "            stringb = data[keyb]\n",
    "            classb = stringb[\"class\"]\n",
    "            f1a = float(stringa[\"f1\"].replace(',', '.'))\n",
    "            f1b = float(stringb[\"f1\"].replace(',', '.'))\n",
    "            f2a = float(stringa[\"f2\"].replace(',', '.'))\n",
    "            f2b = float(stringb[\"f2\"].replace(',', '.'))\n",
    "            f3a = float(stringa[\"f3\"].replace(',', '.'))\n",
    "            f3b = float(stringb[\"f3\"].replace(',', '.'))\n",
    "            f4a = float(stringa[\"f4\"].replace(',', '.'))\n",
    "            f4b = float(stringb[\"f4\"].replace(',', '.'))\n",
    "            distanceab = distance(f1a, f1b, f2a, f2b, f3a, f3b, f4a, f4b)\n",
    "            listab.append(distanceab)\n",
    "            dictab[distanceab] = classb\n",
    "    listab = sorted(listab)\n",
    "    dictmap[i] = listab\n",
    "    dictmain[i] = dictab"
   ]
  },
  {
   "cell_type": "code",
   "execution_count": 3,
   "metadata": {},
   "outputs": [],
   "source": [
    "def errorfunction(j, aobject, aclass): \n",
    "    listmap = dictmap[aobject]\n",
    "    objectdistances = dictmain[aobject]\n",
    "    p = 0\n",
    "    n = 0\n",
    "    errk = 0\n",
    "    i = 0\n",
    "    while i<j:\n",
    "        key = listmap[i]\n",
    "        bclass = objectdistances[key]\n",
    "        if bclass == aclass:\n",
    "            p+=1\n",
    "        else:\n",
    "            n+=1\n",
    "        i+=1\n",
    "    if n == 0:\n",
    "        errk = 0\n",
    "    else:\n",
    "        errk = p/n\n",
    "    return errk"
   ]
  },
  {
   "cell_type": "code",
   "execution_count": 4,
   "metadata": {},
   "outputs": [
    {
     "name": "stdout",
     "output_type": "stream",
     "text": [
      "Введите номер объекта:\n",
      "23\n",
      "23\n",
      "Введите класс объекта:\n",
      "iris-virginica\n",
      "iris-virginica\n",
      "[0.         0.         0.         0.         0.         0.\n",
      " 0.         7.         3.5        2.33333333 1.75       2.\n",
      " 1.6        1.33333333 1.14285714 1.28571429 1.125      1.\n",
      " 0.9        0.81818182 0.75       0.69230769 0.64285714 0.6\n",
      " 0.5625     0.52941176 0.5        0.47368421 0.45      ]\n"
     ]
    },
    {
     "data": {
      "image/png": "[encoded data removed]",
      "text/plain": [
       "<Figure size 432x288 with 1 Axes>"
      ]
     },
     "metadata": {
      "needs_background": "light"
     },
     "output_type": "display_data"
    }
   ],
   "source": [
    "print('Введите номер объекта:')\n",
    "aobject = input()\n",
    "print('Введите класс объекта:')\n",
    "aclass = input()\n",
    "\n",
    "k = np.arange(1, 30, 1)\n",
    "\n",
    "j = int(1)\n",
    "yl = []\n",
    "while j<30:\n",
    "    yl.append(errorfunction(j, aobject, aclass))\n",
    "    j+=1\n",
    "    \n",
    "y = np.array(yl)\n",
    "print(y)\n",
    "\n",
    "fig = plt.figure()\n",
    "ax = fig.add_subplot(111)\n",
    "\n",
    "ax.plot(k, y, color=\"red\")\n",
    "ax.set_xlabel(u'Количество k-соседей')\n",
    "ax.set_ylabel(u'Коэффицициент ошибки')\n",
    "plt.show()"
   ]
  },
  {
   "cell_type": "code",
   "execution_count": null,
   "metadata": {},
   "outputs": [],
   "source": []
  },
  {
   "cell_type": "code",
   "execution_count": null,
   "metadata": {},
   "outputs": [],
   "source": []
  }
 ],
 "metadata": {
  "kernelspec": {
   "display_name": "Python 3",
   "language": "python",
   "name": "python3"
  },
  "language_info": {
   "codemirror_mode": {
    "name": "ipython",
    "version": 3
   },
   "file_extension": ".py",
   "mimetype": "text/x-python",
   "name": "python",
   "nbconvert_exporter": "python",
   "pygments_lexer": "ipython3",
   "version": "3.6.8"
  }
 },
 "nbformat": 4,
 "nbformat_minor": 2
}
